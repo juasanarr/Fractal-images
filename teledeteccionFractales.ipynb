{
 "cells": [
  {
   "cell_type": "code",
   "execution_count": 29,
   "metadata": {},
   "outputs": [],
   "source": [
    "import numpy as np\n",
    "import matplotlib.pyplot as plt\n",
    "from sklearn import linear_model\n",
    "from sklearn.metrics import mean_squared_error, r2_score\n",
    "import cv2"
   ]
  },
  {
   "cell_type": "code",
   "execution_count": 30,
   "metadata": {},
   "outputs": [],
   "source": [
    "def imagen_cuadrada(img):\n",
    "    if img.shape[0] == img.shape[1]:\n",
    "        return img\n",
    "    i, j = img.shape\n",
    "    eje = max(img.shape)\n",
    "    if eje == img.shape[0]:\n",
    "        img = np.hstack((img, np.zeros((i , eje - j))))\n",
    "    else:\n",
    "        img = np.vstack((img, np.zeros((eje - i, j))))\n",
    "    return img"
   ]
  },
  {
   "cell_type": "code",
   "execution_count": 31,
   "metadata": {},
   "outputs": [],
   "source": [
    "def prisma_triangular(imagen, delta):\n",
    "    img = imagen.copy()\n",
    "    r = []\n",
    "    Nr = []\n",
    "    while delta < img.shape[0] and delta < img.shape[1]:\n",
    "        area_total = 0\n",
    "        for i in range(0, img.shape[0] // delta, delta):\n",
    "            for j in range(0, img.shape[1] // delta, delta):\n",
    "                med = (img[i, j] + img[i, j + delta] + img[i + delta, j] + img[i + delta, j + delta]) / 4\n",
    "                A = np.sqrt(np.square(img[i, j] - img[i + delta, j]) + np.square(delta)) * np.sqrt(np.square(img[i + delta // 2, j] - med) + np.square(delta // 2)) // 2\n",
    "                B = np.sqrt(np.square(img[i, j] - img[i, j + delta]) + np.square(delta)) * np.sqrt(np.square(img[i, j + delta // 2] - med) + np.square(delta // 2)) //2\n",
    "                C = np.sqrt(np.square(img[i + delta, j] - img[i + delta, j + delta]) + np.square(delta)) * np.sqrt(np.square(img[i + delta, j + delta // 2] - med) + np.square(delta // 2)) // 2\n",
    "                D = np.sqrt(np.square(img[i, j + delta] - img[i + delta, j + delta]) + np.square(delta)) * np.sqrt(np.square(img[i + delta // 2, j + delta] - med) + np.square(delta // 2)) // 2\n",
    "                area_total += A + B + C + D\n",
    "        Nr.append(area_total)\n",
    "        r.append(delta)\n",
    "        delta *= 4\n",
    "    reg = linear_model.LinearRegression()\n",
    "    reg.fit(np.log(np.array(r)).reshape(-1,1), np.log(np.array(Nr)))\n",
    "    return 2 - reg.coef_[0]"
   ]
  },
  {
   "cell_type": "code",
   "execution_count": 32,
   "metadata": {},
   "outputs": [],
   "source": [
    "def box_counting_diferencial(imagen):\n",
    "    copia = imagen_cuadrada(imagen)\n",
    "    M = copia.shape[0]\n",
    "    r = []\n",
    "    Nr = [] \n",
    "    for s in range(2, M // 2):\n",
    "        r.append(s / M)\n",
    "        nr = 0\n",
    "        for i in range(1, M, s):\n",
    "            for j in range(1, M, s):\n",
    "                cuadricula = imagen_cuadrada(copia[i:min(i + s, M), j:min(j + s, M)])\n",
    "                h = s * 256 / M\n",
    "                nr += np.ceil(np.max(cuadricula) / h) - np.ceil(np.min(cuadricula) / h) + 1\n",
    "        Nr.append(nr)\n",
    "    reg = linear_model.LinearRegression()\n",
    "    reg.fit(np.log(np.array(r)).reshape(-1,1), np.log(np.array(Nr)))\n",
    "    return -reg.coef_[0]"
   ]
  },
  {
   "cell_type": "code",
   "execution_count": 33,
   "metadata": {},
   "outputs": [],
   "source": [
    "# This cell is only for a primary implementation, it is not computationally aviable", 
    "def variograma(imagen):\n",
    "    img = imagen.copy()\n",
    "    n = np.int64(np.sqrt(min(img.shape)))\n",
    "    r = []\n",
    "    Nr = []\n",
    "    for h in range(2, n):\n",
    "        yh = 0\n",
    "        tot = 0\n",
    "        for i in range(img.shape[0]):\n",
    "            for j in range(img.shape[1]):\n",
    "                dist = [(i2, j2) for i2 in range(img.shape[0]) for j2 in range(img.shape[1]) if max(i - i2, j - j2) < h]\n",
    "                tot += len(dist)\n",
    "                yh += sum([np.square(img[i, j] - img[i2, j2]) for (i2, j2) in dist])\n",
    "        Nr.append(yh/2*tot)\n",
    "        r.append(h)\n",
    "    reg = linear_model.LinearRegression()\n",
    "    reg.fit(np.log(np.array(r)).reshape(-1,1), np.log(np.array(Nr)))\n",
    "    return 3 - reg.coef_[0]\n"
   ]
  }
 ],
 "metadata": {
  "kernelspec": {
   "display_name": "base",
   "language": "python",
   "name": "python3"
  },
  "language_info": {
   "codemirror_mode": {
    "name": "ipython",
    "version": 3
   },
   "file_extension": ".py",
   "mimetype": "text/x-python",
   "name": "python",
   "nbconvert_exporter": "python",
   "pygments_lexer": "ipython3",
   "version": "3.11.7"
  }
 },
 "nbformat": 4,
 "nbformat_minor": 2
}
